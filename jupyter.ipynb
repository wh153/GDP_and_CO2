{
 "cells": [
  {
   "cell_type": "markdown",
   "source": [
    "This is our jupyter for github test"
   ],
   "metadata": {}
  },
  {
   "cell_type": "code",
   "execution_count": 1,
   "source": [
    "import pandas as pd\n",
    "\n",
    "attendees = pd.DataFrame(\n",
    "    {\n",
    "        \"names\": [\"Jill\", \"Kumar\", \"Zaira\"],\n",
    "        \"prizes\": [0, 0, 0],\n",
    "        \"arrival_order\": [2, 1, 3],\n",
    "    }\n",
    ")\n",
    "arrival_prizes = pd.Series([20, 10, 0])"
   ],
   "outputs": [],
   "metadata": {}
  }
 ],
 "metadata": {
  "orig_nbformat": 4,
  "language_info": {
   "name": "python",
   "version": "3.9.6",
   "mimetype": "text/x-python",
   "codemirror_mode": {
    "name": "ipython",
    "version": 3
   },
   "pygments_lexer": "ipython3",
   "nbconvert_exporter": "python",
   "file_extension": ".py"
  },
  "kernelspec": {
   "name": "python3",
   "display_name": "Python 3.9.6 64-bit ('base': conda)"
  },
  "interpreter": {
   "hash": "87e9d125eb3139100a22d41ad6d93350d0ae15e479e57bf72eb4e2b16358d21b"
  }
 },
 "nbformat": 4,
 "nbformat_minor": 2
}